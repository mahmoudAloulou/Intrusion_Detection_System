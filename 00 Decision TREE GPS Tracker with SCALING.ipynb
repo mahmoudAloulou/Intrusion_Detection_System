{
 "cells": [
  {
   "cell_type": "code",
   "execution_count": 1,
   "metadata": {},
   "outputs": [],
   "source": [
    "import pandas as pd\n",
    "import matplotlib.pyplot as plt\n",
    "from sklearn.preprocessing import LabelEncoder\n",
    "from sklearn.model_selection import train_test_split\n",
    "import numpy as np\n",
    "import seaborn as sns\n",
    "from sklearn.metrics import (precision_score, recall_score,f1_score, accuracy_score,mean_squared_error,mean_absolute_error)"
   ]
  },
  {
   "cell_type": "code",
   "execution_count": 2,
   "metadata": {},
   "outputs": [],
   "source": [
    "df=pd.read_csv(\"Train_Test_IoT_GPS_Tracker.csv\")"
   ]
  },
  {
   "cell_type": "code",
   "execution_count": 3,
   "metadata": {},
   "outputs": [
    {
     "data": {
      "text/html": [
       "<div>\n",
       "<style scoped>\n",
       "    .dataframe tbody tr th:only-of-type {\n",
       "        vertical-align: middle;\n",
       "    }\n",
       "\n",
       "    .dataframe tbody tr th {\n",
       "        vertical-align: top;\n",
       "    }\n",
       "\n",
       "    .dataframe thead th {\n",
       "        text-align: right;\n",
       "    }\n",
       "</style>\n",
       "<table border=\"1\" class=\"dataframe\">\n",
       "  <thead>\n",
       "    <tr style=\"text-align: right;\">\n",
       "      <th></th>\n",
       "      <th>ts</th>\n",
       "      <th>date</th>\n",
       "      <th>time</th>\n",
       "      <th>latitude</th>\n",
       "      <th>longitude</th>\n",
       "      <th>label</th>\n",
       "      <th>type</th>\n",
       "    </tr>\n",
       "  </thead>\n",
       "  <tbody>\n",
       "    <tr>\n",
       "      <th>0</th>\n",
       "      <td>1556242299</td>\n",
       "      <td>25-Apr-19</td>\n",
       "      <td>18:31:39</td>\n",
       "      <td>116.521704</td>\n",
       "      <td>132.162504</td>\n",
       "      <td>1</td>\n",
       "      <td>ddos</td>\n",
       "    </tr>\n",
       "    <tr>\n",
       "      <th>1</th>\n",
       "      <td>1556242301</td>\n",
       "      <td>25-Apr-19</td>\n",
       "      <td>18:31:41</td>\n",
       "      <td>121.742933</td>\n",
       "      <td>135.072500</td>\n",
       "      <td>1</td>\n",
       "      <td>ddos</td>\n",
       "    </tr>\n",
       "    <tr>\n",
       "      <th>2</th>\n",
       "      <td>1556242306</td>\n",
       "      <td>25-Apr-19</td>\n",
       "      <td>18:31:46</td>\n",
       "      <td>121.795929</td>\n",
       "      <td>135.110198</td>\n",
       "      <td>1</td>\n",
       "      <td>ddos</td>\n",
       "    </tr>\n",
       "    <tr>\n",
       "      <th>3</th>\n",
       "      <td>1556242309</td>\n",
       "      <td>25-Apr-19</td>\n",
       "      <td>18:31:49</td>\n",
       "      <td>116.611216</td>\n",
       "      <td>132.224555</td>\n",
       "      <td>1</td>\n",
       "      <td>ddos</td>\n",
       "    </tr>\n",
       "    <tr>\n",
       "      <th>4</th>\n",
       "      <td>1556242311</td>\n",
       "      <td>25-Apr-19</td>\n",
       "      <td>18:31:51</td>\n",
       "      <td>121.841526</td>\n",
       "      <td>135.151362</td>\n",
       "      <td>1</td>\n",
       "      <td>ddos</td>\n",
       "    </tr>\n",
       "    <tr>\n",
       "      <th>...</th>\n",
       "      <td>...</td>\n",
       "      <td>...</td>\n",
       "      <td>...</td>\n",
       "      <td>...</td>\n",
       "      <td>...</td>\n",
       "      <td>...</td>\n",
       "      <td>...</td>\n",
       "    </tr>\n",
       "    <tr>\n",
       "      <th>58955</th>\n",
       "      <td>1554202928</td>\n",
       "      <td>2-Apr-19</td>\n",
       "      <td>4:02:08</td>\n",
       "      <td>1.028628</td>\n",
       "      <td>10.810522</td>\n",
       "      <td>0</td>\n",
       "      <td>normal</td>\n",
       "    </tr>\n",
       "    <tr>\n",
       "      <th>58956</th>\n",
       "      <td>1554202928</td>\n",
       "      <td>2-Apr-19</td>\n",
       "      <td>4:02:08</td>\n",
       "      <td>0.345361</td>\n",
       "      <td>10.727989</td>\n",
       "      <td>0</td>\n",
       "      <td>normal</td>\n",
       "    </tr>\n",
       "    <tr>\n",
       "      <th>58957</th>\n",
       "      <td>1554202928</td>\n",
       "      <td>2-Apr-19</td>\n",
       "      <td>4:02:08</td>\n",
       "      <td>0.423384</td>\n",
       "      <td>10.508036</td>\n",
       "      <td>0</td>\n",
       "      <td>normal</td>\n",
       "    </tr>\n",
       "    <tr>\n",
       "      <th>58958</th>\n",
       "      <td>1554202928</td>\n",
       "      <td>2-Apr-19</td>\n",
       "      <td>4:02:08</td>\n",
       "      <td>0.445292</td>\n",
       "      <td>10.381356</td>\n",
       "      <td>0</td>\n",
       "      <td>normal</td>\n",
       "    </tr>\n",
       "    <tr>\n",
       "      <th>58959</th>\n",
       "      <td>1554202928</td>\n",
       "      <td>2-Apr-19</td>\n",
       "      <td>4:02:08</td>\n",
       "      <td>0.532691</td>\n",
       "      <td>10.345983</td>\n",
       "      <td>0</td>\n",
       "      <td>normal</td>\n",
       "    </tr>\n",
       "  </tbody>\n",
       "</table>\n",
       "<p>58960 rows × 7 columns</p>\n",
       "</div>"
      ],
      "text/plain": [
       "               ts       date        time    latitude   longitude  label  \\\n",
       "0      1556242299  25-Apr-19   18:31:39   116.521704  132.162504      1   \n",
       "1      1556242301  25-Apr-19   18:31:41   121.742933  135.072500      1   \n",
       "2      1556242306  25-Apr-19   18:31:46   121.795929  135.110198      1   \n",
       "3      1556242309  25-Apr-19   18:31:49   116.611216  132.224555      1   \n",
       "4      1556242311  25-Apr-19   18:31:51   121.841526  135.151362      1   \n",
       "...           ...        ...         ...         ...         ...    ...   \n",
       "58955  1554202928   2-Apr-19     4:02:08    1.028628   10.810522      0   \n",
       "58956  1554202928   2-Apr-19     4:02:08    0.345361   10.727989      0   \n",
       "58957  1554202928   2-Apr-19     4:02:08    0.423384   10.508036      0   \n",
       "58958  1554202928   2-Apr-19     4:02:08    0.445292   10.381356      0   \n",
       "58959  1554202928   2-Apr-19     4:02:08    0.532691   10.345983      0   \n",
       "\n",
       "         type  \n",
       "0        ddos  \n",
       "1        ddos  \n",
       "2        ddos  \n",
       "3        ddos  \n",
       "4        ddos  \n",
       "...       ...  \n",
       "58955  normal  \n",
       "58956  normal  \n",
       "58957  normal  \n",
       "58958  normal  \n",
       "58959  normal  \n",
       "\n",
       "[58960 rows x 7 columns]"
      ]
     },
     "execution_count": 3,
     "metadata": {},
     "output_type": "execute_result"
    }
   ],
   "source": [
    "df"
   ]
  },
  {
   "cell_type": "code",
   "execution_count": 4,
   "metadata": {},
   "outputs": [
    {
     "data": {
      "text/html": [
       "<div>\n",
       "<style scoped>\n",
       "    .dataframe tbody tr th:only-of-type {\n",
       "        vertical-align: middle;\n",
       "    }\n",
       "\n",
       "    .dataframe tbody tr th {\n",
       "        vertical-align: top;\n",
       "    }\n",
       "\n",
       "    .dataframe thead th {\n",
       "        text-align: right;\n",
       "    }\n",
       "</style>\n",
       "<table border=\"1\" class=\"dataframe\">\n",
       "  <thead>\n",
       "    <tr style=\"text-align: right;\">\n",
       "      <th></th>\n",
       "      <th>ts</th>\n",
       "      <th>latitude</th>\n",
       "      <th>longitude</th>\n",
       "      <th>label</th>\n",
       "    </tr>\n",
       "  </thead>\n",
       "  <tbody>\n",
       "    <tr>\n",
       "      <th>count</th>\n",
       "      <td>5.896000e+04</td>\n",
       "      <td>58960.000000</td>\n",
       "      <td>58960.000000</td>\n",
       "      <td>58960.000000</td>\n",
       "    </tr>\n",
       "    <tr>\n",
       "      <th>mean</th>\n",
       "      <td>1.555005e+09</td>\n",
       "      <td>46.703771</td>\n",
       "      <td>56.840204</td>\n",
       "      <td>0.406377</td>\n",
       "    </tr>\n",
       "    <tr>\n",
       "      <th>std</th>\n",
       "      <td>1.094043e+06</td>\n",
       "      <td>74.735511</td>\n",
       "      <td>75.032361</td>\n",
       "      <td>0.491161</td>\n",
       "    </tr>\n",
       "    <tr>\n",
       "      <th>min</th>\n",
       "      <td>1.554061e+09</td>\n",
       "      <td>0.000000</td>\n",
       "      <td>10.000000</td>\n",
       "      <td>0.000000</td>\n",
       "    </tr>\n",
       "    <tr>\n",
       "      <th>25%</th>\n",
       "      <td>1.554061e+09</td>\n",
       "      <td>1.152564</td>\n",
       "      <td>11.162110</td>\n",
       "      <td>0.000000</td>\n",
       "    </tr>\n",
       "    <tr>\n",
       "      <th>50%</th>\n",
       "      <td>1.554183e+09</td>\n",
       "      <td>4.514077</td>\n",
       "      <td>14.421946</td>\n",
       "      <td>0.000000</td>\n",
       "    </tr>\n",
       "    <tr>\n",
       "      <th>75%</th>\n",
       "      <td>1.556247e+09</td>\n",
       "      <td>77.450045</td>\n",
       "      <td>87.454185</td>\n",
       "      <td>1.000000</td>\n",
       "    </tr>\n",
       "    <tr>\n",
       "      <th>max</th>\n",
       "      <td>1.556477e+09</td>\n",
       "      <td>549.381916</td>\n",
       "      <td>555.133643</td>\n",
       "      <td>1.000000</td>\n",
       "    </tr>\n",
       "  </tbody>\n",
       "</table>\n",
       "</div>"
      ],
      "text/plain": [
       "                 ts      latitude     longitude         label\n",
       "count  5.896000e+04  58960.000000  58960.000000  58960.000000\n",
       "mean   1.555005e+09     46.703771     56.840204      0.406377\n",
       "std    1.094043e+06     74.735511     75.032361      0.491161\n",
       "min    1.554061e+09      0.000000     10.000000      0.000000\n",
       "25%    1.554061e+09      1.152564     11.162110      0.000000\n",
       "50%    1.554183e+09      4.514077     14.421946      0.000000\n",
       "75%    1.556247e+09     77.450045     87.454185      1.000000\n",
       "max    1.556477e+09    549.381916    555.133643      1.000000"
      ]
     },
     "execution_count": 4,
     "metadata": {},
     "output_type": "execute_result"
    }
   ],
   "source": [
    "df.describe()"
   ]
  },
  {
   "cell_type": "code",
   "execution_count": 5,
   "metadata": {},
   "outputs": [
    {
     "data": {
      "text/plain": [
       "ts           0\n",
       "date         0\n",
       "time         0\n",
       "latitude     0\n",
       "longitude    0\n",
       "label        0\n",
       "type         0\n",
       "dtype: int64"
      ]
     },
     "execution_count": 5,
     "metadata": {},
     "output_type": "execute_result"
    }
   ],
   "source": [
    "df.isnull().sum()"
   ]
  },
  {
   "cell_type": "code",
   "execution_count": 6,
   "metadata": {},
   "outputs": [
    {
     "data": {
      "text/plain": [
       "0    35000\n",
       "1    23960\n",
       "Name: label, dtype: int64"
      ]
     },
     "execution_count": 6,
     "metadata": {},
     "output_type": "execute_result"
    }
   ],
   "source": [
    "df['label'].value_counts()"
   ]
  },
  {
   "cell_type": "code",
   "execution_count": 7,
   "metadata": {},
   "outputs": [
    {
     "data": {
      "text/plain": [
       "normal        35000\n",
       "injection      5000\n",
       "backdoor       5000\n",
       "password       5000\n",
       "ddos           5000\n",
       "ransomware     2833\n",
       "xss             577\n",
       "scanning        550\n",
       "Name: type, dtype: int64"
      ]
     },
     "execution_count": 7,
     "metadata": {},
     "output_type": "execute_result"
    }
   ],
   "source": [
    "df['type'].value_counts()"
   ]
  },
  {
   "cell_type": "code",
   "execution_count": 8,
   "metadata": {},
   "outputs": [],
   "source": [
    "num_msg= df.shape[0]\n",
    "num_AttOrNormal = len(df[\"label\"].unique()) \n",
    "name_AttOrNormal = [\"0: Normal \" , \" 1: attack \"]"
   ]
  },
  {
   "cell_type": "code",
   "execution_count": 9,
   "metadata": {},
   "outputs": [
    {
     "data": {
      "image/png": "[encoded data removed]",
      "text/plain": [
       "<Figure size 720x576 with 1 Axes>"
      ]
     },
     "metadata": {
      "needs_background": "light"
     },
     "output_type": "display_data"
    }
   ],
   "source": [
    "Count_per_classAttOrNormal = df[\"label\"].value_counts()\n",
    "percentage_per_classAttOrNormal = Count_per_classAttOrNormal*100/num_msg\n",
    "\n",
    "fig = plt.figure(figsize=(10, 8))\n",
    "bar_plot = plt.bar(name_AttOrNormal,Count_per_classAttOrNormal,color='green')\n",
    "\n",
    "\n",
    "plt.xlabel('Class (0:normal , 1:attack)')\n",
    "plt.ylabel('Count')\n",
    "plt.title('Distribution of messages ( normal vs attack )')\n",
    "plt.show()"
   ]
  },
  {
   "cell_type": "code",
   "execution_count": null,
   "metadata": {},
   "outputs": [],
   "source": []
  },
  {
   "cell_type": "code",
   "execution_count": 10,
   "metadata": {},
   "outputs": [
    {
     "data": {
      "text/plain": [
       "8"
      ]
     },
     "execution_count": 10,
     "metadata": {},
     "output_type": "execute_result"
    }
   ],
   "source": [
    "len(df[\"type\"].unique())"
   ]
  },
  {
   "cell_type": "code",
   "execution_count": 11,
   "metadata": {},
   "outputs": [],
   "source": [
    "#labelencoder = LabelEncoder()\n",
    "# Assigning numerical values and storing in another column\n",
    "#df['typelabelCode'] = labelencoder.fit_transform(df['type'])\n",
    "#df"
   ]
  },
  {
   "cell_type": "code",
   "execution_count": null,
   "metadata": {},
   "outputs": [],
   "source": []
  },
  {
   "cell_type": "code",
   "execution_count": null,
   "metadata": {},
   "outputs": [],
   "source": []
  },
  {
   "cell_type": "code",
   "execution_count": null,
   "metadata": {},
   "outputs": [],
   "source": []
  },
  {
   "cell_type": "code",
   "execution_count": 12,
   "metadata": {},
   "outputs": [],
   "source": [
    "name_class=['normal','backdoor','ddos', 'password',  'injection', 'ransomware',  'xss' ,'scanning']"
   ]
  },
  {
   "cell_type": "code",
   "execution_count": 13,
   "metadata": {},
   "outputs": [
    {
     "data": {
      "image/png": "[encoded data removed]",
      "text/plain": [
       "<Figure size 720x576 with 1 Axes>"
      ]
     },
     "metadata": {
      "needs_background": "light"
     },
     "output_type": "display_data"
    }
   ],
   "source": [
    "Count_per_class = df[\"type\"].value_counts()\n",
    "\n",
    "plt.rcParams.update({'font.size': 18})\n",
    "\n",
    "\n",
    "fig = plt.figure(figsize=(10, 8))\n",
    "bar_plot = plt.bar(name_class,Count_per_class,color='green')\n",
    "\n",
    "plt.xticks(rotation=90)\n",
    "plt.xlabel(\"Message type\")\n",
    "plt.ylabel(\"count\")\n",
    "\n",
    "plt.title('Distribution of the different types ')\n",
    "plt.show()"
   ]
  },
  {
   "cell_type": "markdown",
   "metadata": {},
   "source": [
    "## Label Encoding"
   ]
  },
  {
   "cell_type": "code",
   "execution_count": 14,
   "metadata": {},
   "outputs": [
    {
     "data": {
      "text/html": [
       "<div>\n",
       "<style scoped>\n",
       "    .dataframe tbody tr th:only-of-type {\n",
       "        vertical-align: middle;\n",
       "    }\n",
       "\n",
       "    .dataframe tbody tr th {\n",
       "        vertical-align: top;\n",
       "    }\n",
       "\n",
       "    .dataframe thead th {\n",
       "        text-align: right;\n",
       "    }\n",
       "</style>\n",
       "<table border=\"1\" class=\"dataframe\">\n",
       "  <thead>\n",
       "    <tr style=\"text-align: right;\">\n",
       "      <th></th>\n",
       "      <th>ts</th>\n",
       "      <th>date</th>\n",
       "      <th>time</th>\n",
       "      <th>latitude</th>\n",
       "      <th>longitude</th>\n",
       "      <th>label</th>\n",
       "      <th>type</th>\n",
       "      <th>labelCode</th>\n",
       "    </tr>\n",
       "  </thead>\n",
       "  <tbody>\n",
       "    <tr>\n",
       "      <th>0</th>\n",
       "      <td>1556242299</td>\n",
       "      <td>25-Apr-19</td>\n",
       "      <td>18:31:39</td>\n",
       "      <td>116.521704</td>\n",
       "      <td>132.162504</td>\n",
       "      <td>1</td>\n",
       "      <td>ddos</td>\n",
       "      <td>1</td>\n",
       "    </tr>\n",
       "    <tr>\n",
       "      <th>1</th>\n",
       "      <td>1556242301</td>\n",
       "      <td>25-Apr-19</td>\n",
       "      <td>18:31:41</td>\n",
       "      <td>121.742933</td>\n",
       "      <td>135.072500</td>\n",
       "      <td>1</td>\n",
       "      <td>ddos</td>\n",
       "      <td>1</td>\n",
       "    </tr>\n",
       "    <tr>\n",
       "      <th>2</th>\n",
       "      <td>1556242306</td>\n",
       "      <td>25-Apr-19</td>\n",
       "      <td>18:31:46</td>\n",
       "      <td>121.795929</td>\n",
       "      <td>135.110198</td>\n",
       "      <td>1</td>\n",
       "      <td>ddos</td>\n",
       "      <td>1</td>\n",
       "    </tr>\n",
       "    <tr>\n",
       "      <th>3</th>\n",
       "      <td>1556242309</td>\n",
       "      <td>25-Apr-19</td>\n",
       "      <td>18:31:49</td>\n",
       "      <td>116.611216</td>\n",
       "      <td>132.224555</td>\n",
       "      <td>1</td>\n",
       "      <td>ddos</td>\n",
       "      <td>1</td>\n",
       "    </tr>\n",
       "    <tr>\n",
       "      <th>4</th>\n",
       "      <td>1556242311</td>\n",
       "      <td>25-Apr-19</td>\n",
       "      <td>18:31:51</td>\n",
       "      <td>121.841526</td>\n",
       "      <td>135.151362</td>\n",
       "      <td>1</td>\n",
       "      <td>ddos</td>\n",
       "      <td>1</td>\n",
       "    </tr>\n",
       "    <tr>\n",
       "      <th>...</th>\n",
       "      <td>...</td>\n",
       "      <td>...</td>\n",
       "      <td>...</td>\n",
       "      <td>...</td>\n",
       "      <td>...</td>\n",
       "      <td>...</td>\n",
       "      <td>...</td>\n",
       "      <td>...</td>\n",
       "    </tr>\n",
       "    <tr>\n",
       "      <th>58955</th>\n",
       "      <td>1554202928</td>\n",
       "      <td>2-Apr-19</td>\n",
       "      <td>4:02:08</td>\n",
       "      <td>1.028628</td>\n",
       "      <td>10.810522</td>\n",
       "      <td>0</td>\n",
       "      <td>normal</td>\n",
       "      <td>3</td>\n",
       "    </tr>\n",
       "    <tr>\n",
       "      <th>58956</th>\n",
       "      <td>1554202928</td>\n",
       "      <td>2-Apr-19</td>\n",
       "      <td>4:02:08</td>\n",
       "      <td>0.345361</td>\n",
       "      <td>10.727989</td>\n",
       "      <td>0</td>\n",
       "      <td>normal</td>\n",
       "      <td>3</td>\n",
       "    </tr>\n",
       "    <tr>\n",
       "      <th>58957</th>\n",
       "      <td>1554202928</td>\n",
       "      <td>2-Apr-19</td>\n",
       "      <td>4:02:08</td>\n",
       "      <td>0.423384</td>\n",
       "      <td>10.508036</td>\n",
       "      <td>0</td>\n",
       "      <td>normal</td>\n",
       "      <td>3</td>\n",
       "    </tr>\n",
       "    <tr>\n",
       "      <th>58958</th>\n",
       "      <td>1554202928</td>\n",
       "      <td>2-Apr-19</td>\n",
       "      <td>4:02:08</td>\n",
       "      <td>0.445292</td>\n",
       "      <td>10.381356</td>\n",
       "      <td>0</td>\n",
       "      <td>normal</td>\n",
       "      <td>3</td>\n",
       "    </tr>\n",
       "    <tr>\n",
       "      <th>58959</th>\n",
       "      <td>1554202928</td>\n",
       "      <td>2-Apr-19</td>\n",
       "      <td>4:02:08</td>\n",
       "      <td>0.532691</td>\n",
       "      <td>10.345983</td>\n",
       "      <td>0</td>\n",
       "      <td>normal</td>\n",
       "      <td>3</td>\n",
       "    </tr>\n",
       "  </tbody>\n",
       "</table>\n",
       "<p>58960 rows × 8 columns</p>\n",
       "</div>"
      ],
      "text/plain": [
       "               ts       date        time    latitude   longitude  label  \\\n",
       "0      1556242299  25-Apr-19   18:31:39   116.521704  132.162504      1   \n",
       "1      1556242301  25-Apr-19   18:31:41   121.742933  135.072500      1   \n",
       "2      1556242306  25-Apr-19   18:31:46   121.795929  135.110198      1   \n",
       "3      1556242309  25-Apr-19   18:31:49   116.611216  132.224555      1   \n",
       "4      1556242311  25-Apr-19   18:31:51   121.841526  135.151362      1   \n",
       "...           ...        ...         ...         ...         ...    ...   \n",
       "58955  1554202928   2-Apr-19     4:02:08    1.028628   10.810522      0   \n",
       "58956  1554202928   2-Apr-19     4:02:08    0.345361   10.727989      0   \n",
       "58957  1554202928   2-Apr-19     4:02:08    0.423384   10.508036      0   \n",
       "58958  1554202928   2-Apr-19     4:02:08    0.445292   10.381356      0   \n",
       "58959  1554202928   2-Apr-19     4:02:08    0.532691   10.345983      0   \n",
       "\n",
       "         type  labelCode  \n",
       "0        ddos          1  \n",
       "1        ddos          1  \n",
       "2        ddos          1  \n",
       "3        ddos          1  \n",
       "4        ddos          1  \n",
       "...       ...        ...  \n",
       "58955  normal          3  \n",
       "58956  normal          3  \n",
       "58957  normal          3  \n",
       "58958  normal          3  \n",
       "58959  normal          3  \n",
       "\n",
       "[58960 rows x 8 columns]"
      ]
     },
     "execution_count": 14,
     "metadata": {},
     "output_type": "execute_result"
    }
   ],
   "source": [
    "labelencoder = LabelEncoder()\n",
    "# Assigning numerical values and storing in another column\n",
    "df['labelCode'] = labelencoder.fit_transform(df['type'])\n",
    "df"
   ]
  },
  {
   "cell_type": "markdown",
   "metadata": {},
   "source": [
    "## Each class code equivalent"
   ]
  },
  {
   "cell_type": "code",
   "execution_count": 15,
   "metadata": {},
   "outputs": [
    {
     "data": {
      "text/plain": [
       "{'ddos': 1,\n",
       " 'backdoor': 0,\n",
       " 'injection': 2,\n",
       " 'normal': 3,\n",
       " 'password': 4,\n",
       " 'ransomware': 5,\n",
       " 'scanning': 6,\n",
       " 'xss': 7}"
      ]
     },
     "execution_count": 15,
     "metadata": {},
     "output_type": "execute_result"
    }
   ],
   "source": [
    "label_keys=df[\"type\"].unique()\n",
    "label_values=df[\"labelCode\"].unique()\n",
    "labels = {label_keys[i]: label_values[i] for i in range(len(label_keys))}\n",
    "labels"
   ]
  },
  {
   "cell_type": "code",
   "execution_count": null,
   "metadata": {},
   "outputs": [],
   "source": []
  },
  {
   "cell_type": "code",
   "execution_count": 16,
   "metadata": {},
   "outputs": [],
   "source": [
    "X=df[[\"longitude\",\"latitude\"]]\n",
    "y=df[\"labelCode\"]"
   ]
  },
  {
   "cell_type": "code",
   "execution_count": 17,
   "metadata": {},
   "outputs": [
    {
     "data": {
      "text/plain": [
       "array([[ 1.0038727 ,  0.93420817],\n",
       "       [ 1.04265624,  1.00407152],\n",
       "       [ 1.04315867,  1.00478064],\n",
       "       ...,\n",
       "       [-0.61750105, -0.61926088],\n",
       "       [-0.61918939, -0.61896775],\n",
       "       [-0.61966083, -0.6177983 ]])"
      ]
     },
     "execution_count": 17,
     "metadata": {},
     "output_type": "execute_result"
    }
   ],
   "source": [
    "from sklearn.preprocessing import StandardScaler\n",
    " \n",
    "\n",
    " \n",
    "# Initialise the Scaler\n",
    "scaler = StandardScaler()\n",
    " \n",
    "# To scale data\n",
    "X=scaler.fit_transform(X)\n",
    "\n",
    "X"
   ]
  },
  {
   "cell_type": "code",
   "execution_count": 18,
   "metadata": {},
   "outputs": [
    {
     "name": "stdout",
     "output_type": "stream",
     "text": [
      "Train Data size: 44220\n",
      "Test Data size 14740\n"
     ]
    }
   ],
   "source": [
    "X_train, X_test, y_train, y_test = train_test_split(X, y, test_size=0.25,random_state=42)\n",
    "\n",
    "print(\"Train Data size:\", len(X_train))\n",
    "print(\"Test Data size\", len(X_test))"
   ]
  },
  {
   "cell_type": "code",
   "execution_count": 20,
   "metadata": {},
   "outputs": [
    {
     "data": {
      "text/plain": [
       "DecisionTreeClassifier(random_state=0)"
      ]
     },
     "execution_count": 20,
     "metadata": {},
     "output_type": "execute_result"
    }
   ],
   "source": [
    "from sklearn.tree import DecisionTreeClassifier\n",
    "dtc= DecisionTreeClassifier(random_state=0)\n",
    "dtc.fit(X_train, y_train.values)"
   ]
  },
  {
   "cell_type": "code",
   "execution_count": 21,
   "metadata": {},
   "outputs": [],
   "source": [
    "y_pred = dtc.predict(X_test)\n",
    "y_train_pred=dtc.predict(X_train)"
   ]
  },
  {
   "cell_type": "code",
   "execution_count": 22,
   "metadata": {},
   "outputs": [
    {
     "name": "stdout",
     "output_type": "stream",
     "text": [
      "The RF model accuracy for the training set is:  99.97738579828132\n",
      "The RF model accuracy for the test set is:  86.86567164179104\n"
     ]
    }
   ],
   "source": [
    "from sklearn import metrics\n",
    "print(\"The RF model accuracy for the training set is: \", metrics.accuracy_score(y_train,y_train_pred)*100)\n",
    "print(\"The RF model accuracy for the test set is: \", metrics.accuracy_score(y_test,y_pred)*100)"
   ]
  },
  {
   "cell_type": "code",
   "execution_count": 23,
   "metadata": {},
   "outputs": [
    {
     "name": "stdout",
     "output_type": "stream",
     "text": [
      "\n",
      "Test confusion_matrix\n"
     ]
    },
    {
     "data": {
      "image/png": "[encoded data removed]",
      "text/plain": [
       "<Figure size 1080x1080 with 2 Axes>"
      ]
     },
     "metadata": {
      "needs_background": "light"
     },
     "output_type": "display_data"
    }
   ],
   "source": [
    "from sklearn.metrics import confusion_matrix\n",
    "\n",
    "cf_matrix = confusion_matrix(y_test, y_pred)\n",
    "print(\"\\nTest confusion_matrix\")\n",
    "plt.figure(figsize=(15,15))\n",
    "sns.heatmap(cf_matrix, annot=True, cmap='Blues')\n",
    "plt.xlabel('Predictions', fontsize=12)\n",
    "plt.ylabel('True', fontsize=12)\n",
    "plt.title('Confusion Matrix', fontsize=12)\n",
    "plt.show()"
   ]
  },
  {
   "cell_type": "code",
   "execution_count": 24,
   "metadata": {},
   "outputs": [
    {
     "data": {
      "text/plain": [
       "3    26228\n",
       "4     3787\n",
       "0     3755\n",
       "1     3745\n",
       "2     3725\n",
       "5     2131\n",
       "7      441\n",
       "6      408\n",
       "Name: labelCode, dtype: int64"
      ]
     },
     "execution_count": 24,
     "metadata": {},
     "output_type": "execute_result"
    }
   ],
   "source": [
    "y_train.value_counts()"
   ]
  },
  {
   "cell_type": "code",
   "execution_count": 25,
   "metadata": {},
   "outputs": [
    {
     "data": {
      "text/plain": [
       "3    8772\n",
       "2    1275\n",
       "1    1255\n",
       "0    1245\n",
       "4    1213\n",
       "5     702\n",
       "6     142\n",
       "7     136\n",
       "Name: labelCode, dtype: int64"
      ]
     },
     "execution_count": 25,
     "metadata": {},
     "output_type": "execute_result"
    }
   ],
   "source": [
    "y_test.value_counts()"
   ]
  },
  {
   "cell_type": "code",
   "execution_count": null,
   "metadata": {},
   "outputs": [],
   "source": []
  },
  {
   "cell_type": "code",
   "execution_count": 26,
   "metadata": {},
   "outputs": [],
   "source": [
    "accuracy = accuracy_score(y_test, y_pred)\n",
    "recall = recall_score(y_test, y_pred , average=None)\n",
    "precision = precision_score(y_test, y_pred , average=None)\n",
    "f1 = f1_score(y_test, y_pred, average=None)"
   ]
  },
  {
   "cell_type": "code",
   "execution_count": 27,
   "metadata": {},
   "outputs": [],
   "source": [
    "recallList=recall.tolist()\n",
    "precisionList=precision.tolist()\n",
    "f1lList=f1.tolist()"
   ]
  },
  {
   "cell_type": "code",
   "execution_count": 28,
   "metadata": {},
   "outputs": [
    {
     "data": {
      "text/plain": [
       "['backdoor',\n",
       " 'ddos',\n",
       " 'injection',\n",
       " 'normal',\n",
       " 'password',\n",
       " 'ransomware',\n",
       " 'scanning',\n",
       " 'xss']"
      ]
     },
     "execution_count": 28,
     "metadata": {},
     "output_type": "execute_result"
    }
   ],
   "source": [
    "name_class=['ddos','backdoor','injection','normal','password','ransomware','scanning','xss']\n",
    "name_class.sort()\n",
    "name_class"
   ]
  },
  {
   "cell_type": "code",
   "execution_count": 29,
   "metadata": {},
   "outputs": [],
   "source": [
    "recallDict={i:j for i,j in zip(name_class,recallList)}\n",
    "precisionDict={i:j for i,j in zip(name_class,precisionList)}\n",
    "f1Dict={i:j for i,j in zip(name_class,f1lList)}"
   ]
  },
  {
   "cell_type": "markdown",
   "metadata": {},
   "source": [
    "## Average Recall"
   ]
  },
  {
   "cell_type": "code",
   "execution_count": 30,
   "metadata": {},
   "outputs": [
    {
     "data": {
      "text/plain": [
       "{'backdoor': 0.7983935742971887,\n",
       " 'ddos': 0.7952191235059761,\n",
       " 'injection': 0.7952941176470588,\n",
       " 'normal': 0.9533743730050159,\n",
       " 'password': 0.6553998351195384,\n",
       " 'ransomware': 0.6595441595441596,\n",
       " 'scanning': 0.9154929577464789,\n",
       " 'xss': 0.34558823529411764}"
      ]
     },
     "execution_count": 30,
     "metadata": {},
     "output_type": "execute_result"
    }
   ],
   "source": [
    "recallDict"
   ]
  },
  {
   "cell_type": "markdown",
   "metadata": {},
   "source": [
    "## Average Precision"
   ]
  },
  {
   "cell_type": "code",
   "execution_count": 31,
   "metadata": {},
   "outputs": [
    {
     "data": {
      "text/plain": [
       "{'backdoor': 0.7863924050632911,\n",
       " 'ddos': 0.7676923076923077,\n",
       " 'injection': 0.8325123152709359,\n",
       " 'normal': 0.9560992340230936,\n",
       " 'password': 0.6279620853080569,\n",
       " 'ransomware': 0.6729651162790697,\n",
       " 'scanning': 0.9774436090225563,\n",
       " 'xss': 0.3790322580645161}"
      ]
     },
     "execution_count": 31,
     "metadata": {},
     "output_type": "execute_result"
    }
   ],
   "source": [
    "precisionDict"
   ]
  },
  {
   "cell_type": "markdown",
   "metadata": {},
   "source": [
    "## Average F1 Score"
   ]
  },
  {
   "cell_type": "code",
   "execution_count": 32,
   "metadata": {},
   "outputs": [
    {
     "data": {
      "text/plain": [
       "{'backdoor': 0.7923475488242326,\n",
       " 'ddos': 0.7812133072407045,\n",
       " 'injection': 0.8134777376654632,\n",
       " 'normal': 0.9547348592956219,\n",
       " 'password': 0.6413876563130294,\n",
       " 'ransomware': 0.6661870503597123,\n",
       " 'scanning': 0.9454545454545454,\n",
       " 'xss': 0.36153846153846153}"
      ]
     },
     "execution_count": 32,
     "metadata": {},
     "output_type": "execute_result"
    }
   ],
   "source": [
    "f1Dict"
   ]
  },
  {
   "cell_type": "code",
   "execution_count": null,
   "metadata": {},
   "outputs": [],
   "source": []
  }
 ],
 "metadata": {
  "kernelspec": {
   "display_name": "Python 3",
   "language": "python",
   "name": "python3"
  },
  "language_info": {
   "codemirror_mode": {
    "name": "ipython",
    "version": 3
   },
   "file_extension": ".py",
   "mimetype": "text/x-python",
   "name": "python",
   "nbconvert_exporter": "python",
   "pygments_lexer": "ipython3",
   "version": "3.8.5"
  }
 },
 "nbformat": 4,
 "nbformat_minor": 4
}
