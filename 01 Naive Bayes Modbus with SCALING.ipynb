{
 "cells": [
  {
   "cell_type": "code",
   "execution_count": 1,
   "metadata": {},
   "outputs": [],
   "source": [
    "import pandas as pd\n",
    "import matplotlib.pyplot as plt\n",
    "from sklearn.preprocessing import LabelEncoder\n",
    "from sklearn.model_selection import train_test_split\n",
    "import numpy as np\n",
    "import seaborn as sns\n",
    "from sklearn.metrics import (precision_score, recall_score,f1_score, accuracy_score,mean_squared_error,mean_absolute_error)"
   ]
  },
  {
   "cell_type": "code",
   "execution_count": 2,
   "metadata": {},
   "outputs": [],
   "source": [
    "df=pd.read_csv(\"Train_Test_IoT_Modbus.csv\")"
   ]
  },
  {
   "cell_type": "code",
   "execution_count": 3,
   "metadata": {},
   "outputs": [
    {
     "data": {
      "text/html": [
       "<div>\n",
       "<style scoped>\n",
       "    .dataframe tbody tr th:only-of-type {\n",
       "        vertical-align: middle;\n",
       "    }\n",
       "\n",
       "    .dataframe tbody tr th {\n",
       "        vertical-align: top;\n",
       "    }\n",
       "\n",
       "    .dataframe thead th {\n",
       "        text-align: right;\n",
       "    }\n",
       "</style>\n",
       "<table border=\"1\" class=\"dataframe\">\n",
       "  <thead>\n",
       "    <tr style=\"text-align: right;\">\n",
       "      <th></th>\n",
       "      <th>ts</th>\n",
       "      <th>date</th>\n",
       "      <th>time</th>\n",
       "      <th>FC1_Read_Input_Register</th>\n",
       "      <th>FC2_Read_Discrete_Value</th>\n",
       "      <th>FC3_Read_Holding_Register</th>\n",
       "      <th>FC4_Read_Coil</th>\n",
       "      <th>label</th>\n",
       "      <th>type</th>\n",
       "    </tr>\n",
       "  </thead>\n",
       "  <tbody>\n",
       "    <tr>\n",
       "      <th>0</th>\n",
       "      <td>1556208840</td>\n",
       "      <td>25-Apr-19</td>\n",
       "      <td>09:14:00</td>\n",
       "      <td>49389</td>\n",
       "      <td>52921</td>\n",
       "      <td>25770</td>\n",
       "      <td>13625</td>\n",
       "      <td>1</td>\n",
       "      <td>injection</td>\n",
       "    </tr>\n",
       "    <tr>\n",
       "      <th>1</th>\n",
       "      <td>1556208840</td>\n",
       "      <td>25-Apr-19</td>\n",
       "      <td>09:14:00</td>\n",
       "      <td>49389</td>\n",
       "      <td>52921</td>\n",
       "      <td>25770</td>\n",
       "      <td>13625</td>\n",
       "      <td>1</td>\n",
       "      <td>injection</td>\n",
       "    </tr>\n",
       "    <tr>\n",
       "      <th>2</th>\n",
       "      <td>1556208841</td>\n",
       "      <td>25-Apr-19</td>\n",
       "      <td>09:14:01</td>\n",
       "      <td>49389</td>\n",
       "      <td>52921</td>\n",
       "      <td>25770</td>\n",
       "      <td>13625</td>\n",
       "      <td>1</td>\n",
       "      <td>injection</td>\n",
       "    </tr>\n",
       "    <tr>\n",
       "      <th>3</th>\n",
       "      <td>1556208842</td>\n",
       "      <td>25-Apr-19</td>\n",
       "      <td>09:14:02</td>\n",
       "      <td>49389</td>\n",
       "      <td>52921</td>\n",
       "      <td>25770</td>\n",
       "      <td>13625</td>\n",
       "      <td>1</td>\n",
       "      <td>injection</td>\n",
       "    </tr>\n",
       "    <tr>\n",
       "      <th>4</th>\n",
       "      <td>1556208844</td>\n",
       "      <td>25-Apr-19</td>\n",
       "      <td>09:14:04</td>\n",
       "      <td>40665</td>\n",
       "      <td>44748</td>\n",
       "      <td>21098</td>\n",
       "      <td>35371</td>\n",
       "      <td>1</td>\n",
       "      <td>injection</td>\n",
       "    </tr>\n",
       "    <tr>\n",
       "      <th>...</th>\n",
       "      <td>...</td>\n",
       "      <td>...</td>\n",
       "      <td>...</td>\n",
       "      <td>...</td>\n",
       "      <td>...</td>\n",
       "      <td>...</td>\n",
       "      <td>...</td>\n",
       "      <td>...</td>\n",
       "      <td>...</td>\n",
       "    </tr>\n",
       "    <tr>\n",
       "      <th>51101</th>\n",
       "      <td>1554183533</td>\n",
       "      <td>1-Apr-19</td>\n",
       "      <td>22:38:53</td>\n",
       "      <td>62602</td>\n",
       "      <td>1253</td>\n",
       "      <td>12772</td>\n",
       "      <td>29319</td>\n",
       "      <td>0</td>\n",
       "      <td>normal</td>\n",
       "    </tr>\n",
       "    <tr>\n",
       "      <th>51102</th>\n",
       "      <td>1554183536</td>\n",
       "      <td>1-Apr-19</td>\n",
       "      <td>22:38:56</td>\n",
       "      <td>62602</td>\n",
       "      <td>1253</td>\n",
       "      <td>12772</td>\n",
       "      <td>29319</td>\n",
       "      <td>0</td>\n",
       "      <td>normal</td>\n",
       "    </tr>\n",
       "    <tr>\n",
       "      <th>51103</th>\n",
       "      <td>1554183537</td>\n",
       "      <td>1-Apr-19</td>\n",
       "      <td>22:38:57</td>\n",
       "      <td>198</td>\n",
       "      <td>38266</td>\n",
       "      <td>33649</td>\n",
       "      <td>44594</td>\n",
       "      <td>0</td>\n",
       "      <td>normal</td>\n",
       "    </tr>\n",
       "    <tr>\n",
       "      <th>51104</th>\n",
       "      <td>1554183538</td>\n",
       "      <td>1-Apr-19</td>\n",
       "      <td>22:38:58</td>\n",
       "      <td>198</td>\n",
       "      <td>38266</td>\n",
       "      <td>33649</td>\n",
       "      <td>44594</td>\n",
       "      <td>0</td>\n",
       "      <td>normal</td>\n",
       "    </tr>\n",
       "    <tr>\n",
       "      <th>51105</th>\n",
       "      <td>1554183541</td>\n",
       "      <td>1-Apr-19</td>\n",
       "      <td>22:39:01</td>\n",
       "      <td>198</td>\n",
       "      <td>38266</td>\n",
       "      <td>33649</td>\n",
       "      <td>44594</td>\n",
       "      <td>0</td>\n",
       "      <td>normal</td>\n",
       "    </tr>\n",
       "  </tbody>\n",
       "</table>\n",
       "<p>51106 rows × 9 columns</p>\n",
       "</div>"
      ],
      "text/plain": [
       "               ts       date        time  FC1_Read_Input_Register  \\\n",
       "0      1556208840  25-Apr-19   09:14:00                     49389   \n",
       "1      1556208840  25-Apr-19   09:14:00                     49389   \n",
       "2      1556208841  25-Apr-19   09:14:01                     49389   \n",
       "3      1556208842  25-Apr-19   09:14:02                     49389   \n",
       "4      1556208844  25-Apr-19   09:14:04                     40665   \n",
       "...           ...        ...         ...                      ...   \n",
       "51101  1554183533   1-Apr-19   22:38:53                     62602   \n",
       "51102  1554183536   1-Apr-19   22:38:56                     62602   \n",
       "51103  1554183537   1-Apr-19   22:38:57                       198   \n",
       "51104  1554183538   1-Apr-19   22:38:58                       198   \n",
       "51105  1554183541   1-Apr-19   22:39:01                       198   \n",
       "\n",
       "       FC2_Read_Discrete_Value  FC3_Read_Holding_Register  FC4_Read_Coil  \\\n",
       "0                        52921                      25770          13625   \n",
       "1                        52921                      25770          13625   \n",
       "2                        52921                      25770          13625   \n",
       "3                        52921                      25770          13625   \n",
       "4                        44748                      21098          35371   \n",
       "...                        ...                        ...            ...   \n",
       "51101                     1253                      12772          29319   \n",
       "51102                     1253                      12772          29319   \n",
       "51103                    38266                      33649          44594   \n",
       "51104                    38266                      33649          44594   \n",
       "51105                    38266                      33649          44594   \n",
       "\n",
       "       label       type  \n",
       "0          1  injection  \n",
       "1          1  injection  \n",
       "2          1  injection  \n",
       "3          1  injection  \n",
       "4          1  injection  \n",
       "...      ...        ...  \n",
       "51101      0     normal  \n",
       "51102      0     normal  \n",
       "51103      0     normal  \n",
       "51104      0     normal  \n",
       "51105      0     normal  \n",
       "\n",
       "[51106 rows x 9 columns]"
      ]
     },
     "execution_count": 3,
     "metadata": {},
     "output_type": "execute_result"
    }
   ],
   "source": [
    "df"
   ]
  },
  {
   "cell_type": "code",
   "execution_count": 4,
   "metadata": {},
   "outputs": [
    {
     "data": {
      "text/html": [
       "<div>\n",
       "<style scoped>\n",
       "    .dataframe tbody tr th:only-of-type {\n",
       "        vertical-align: middle;\n",
       "    }\n",
       "\n",
       "    .dataframe tbody tr th {\n",
       "        vertical-align: top;\n",
       "    }\n",
       "\n",
       "    .dataframe thead th {\n",
       "        text-align: right;\n",
       "    }\n",
       "</style>\n",
       "<table border=\"1\" class=\"dataframe\">\n",
       "  <thead>\n",
       "    <tr style=\"text-align: right;\">\n",
       "      <th></th>\n",
       "      <th>ts</th>\n",
       "      <th>FC1_Read_Input_Register</th>\n",
       "      <th>FC2_Read_Discrete_Value</th>\n",
       "      <th>FC3_Read_Holding_Register</th>\n",
       "      <th>FC4_Read_Coil</th>\n",
       "      <th>label</th>\n",
       "    </tr>\n",
       "  </thead>\n",
       "  <tbody>\n",
       "    <tr>\n",
       "      <th>count</th>\n",
       "      <td>5.110600e+04</td>\n",
       "      <td>51106.000000</td>\n",
       "      <td>51106.000000</td>\n",
       "      <td>51106.000000</td>\n",
       "      <td>51106.000000</td>\n",
       "      <td>51106.000000</td>\n",
       "    </tr>\n",
       "    <tr>\n",
       "      <th>mean</th>\n",
       "      <td>1.554802e+09</td>\n",
       "      <td>32757.773627</td>\n",
       "      <td>32777.699879</td>\n",
       "      <td>32503.208743</td>\n",
       "      <td>32828.110594</td>\n",
       "      <td>0.315149</td>\n",
       "    </tr>\n",
       "    <tr>\n",
       "      <th>std</th>\n",
       "      <td>1.038530e+06</td>\n",
       "      <td>18882.845454</td>\n",
       "      <td>19013.367817</td>\n",
       "      <td>18917.049504</td>\n",
       "      <td>18864.069304</td>\n",
       "      <td>0.464580</td>\n",
       "    </tr>\n",
       "    <tr>\n",
       "      <th>min</th>\n",
       "      <td>1.554061e+09</td>\n",
       "      <td>0.000000</td>\n",
       "      <td>0.000000</td>\n",
       "      <td>0.000000</td>\n",
       "      <td>0.000000</td>\n",
       "      <td>0.000000</td>\n",
       "    </tr>\n",
       "    <tr>\n",
       "      <th>25%</th>\n",
       "      <td>1.554061e+09</td>\n",
       "      <td>16500.000000</td>\n",
       "      <td>16436.000000</td>\n",
       "      <td>16290.000000</td>\n",
       "      <td>16495.000000</td>\n",
       "      <td>0.000000</td>\n",
       "    </tr>\n",
       "    <tr>\n",
       "      <th>50%</th>\n",
       "      <td>1.554160e+09</td>\n",
       "      <td>32450.000000</td>\n",
       "      <td>32708.000000</td>\n",
       "      <td>32035.000000</td>\n",
       "      <td>32728.000000</td>\n",
       "      <td>0.000000</td>\n",
       "    </tr>\n",
       "    <tr>\n",
       "      <th>75%</th>\n",
       "      <td>1.556211e+09</td>\n",
       "      <td>49033.000000</td>\n",
       "      <td>49235.000000</td>\n",
       "      <td>48826.000000</td>\n",
       "      <td>48979.250000</td>\n",
       "      <td>1.000000</td>\n",
       "    </tr>\n",
       "    <tr>\n",
       "      <th>max</th>\n",
       "      <td>1.556480e+09</td>\n",
       "      <td>65527.000000</td>\n",
       "      <td>65535.000000</td>\n",
       "      <td>65525.000000</td>\n",
       "      <td>65534.000000</td>\n",
       "      <td>1.000000</td>\n",
       "    </tr>\n",
       "  </tbody>\n",
       "</table>\n",
       "</div>"
      ],
      "text/plain": [
       "                 ts  FC1_Read_Input_Register  FC2_Read_Discrete_Value  \\\n",
       "count  5.110600e+04             51106.000000             51106.000000   \n",
       "mean   1.554802e+09             32757.773627             32777.699879   \n",
       "std    1.038530e+06             18882.845454             19013.367817   \n",
       "min    1.554061e+09                 0.000000                 0.000000   \n",
       "25%    1.554061e+09             16500.000000             16436.000000   \n",
       "50%    1.554160e+09             32450.000000             32708.000000   \n",
       "75%    1.556211e+09             49033.000000             49235.000000   \n",
       "max    1.556480e+09             65527.000000             65535.000000   \n",
       "\n",
       "       FC3_Read_Holding_Register  FC4_Read_Coil         label  \n",
       "count               51106.000000   51106.000000  51106.000000  \n",
       "mean                32503.208743   32828.110594      0.315149  \n",
       "std                 18917.049504   18864.069304      0.464580  \n",
       "min                     0.000000       0.000000      0.000000  \n",
       "25%                 16290.000000   16495.000000      0.000000  \n",
       "50%                 32035.000000   32728.000000      0.000000  \n",
       "75%                 48826.000000   48979.250000      1.000000  \n",
       "max                 65525.000000   65534.000000      1.000000  "
      ]
     },
     "execution_count": 4,
     "metadata": {},
     "output_type": "execute_result"
    }
   ],
   "source": [
    "df.describe()"
   ]
  },
  {
   "cell_type": "code",
   "execution_count": 5,
   "metadata": {},
   "outputs": [
    {
     "data": {
      "text/plain": [
       "ts                           0\n",
       "date                         0\n",
       "time                         0\n",
       "FC1_Read_Input_Register      0\n",
       "FC2_Read_Discrete_Value      0\n",
       "FC3_Read_Holding_Register    0\n",
       "FC4_Read_Coil                0\n",
       "label                        0\n",
       "type                         0\n",
       "dtype: int64"
      ]
     },
     "execution_count": 5,
     "metadata": {},
     "output_type": "execute_result"
    }
   ],
   "source": [
    "df.isnull().sum()"
   ]
  },
  {
   "cell_type": "code",
   "execution_count": 6,
   "metadata": {},
   "outputs": [
    {
     "data": {
      "text/plain": [
       "0    35000\n",
       "1    16106\n",
       "Name: label, dtype: int64"
      ]
     },
     "execution_count": 6,
     "metadata": {},
     "output_type": "execute_result"
    }
   ],
   "source": [
    "df['label'].value_counts()"
   ]
  },
  {
   "cell_type": "code",
   "execution_count": 7,
   "metadata": {},
   "outputs": [
    {
     "data": {
      "text/plain": [
       "normal       35000\n",
       "password      5000\n",
       "backdoor      5000\n",
       "injection     5000\n",
       "xss            577\n",
       "scanning       529\n",
       "Name: type, dtype: int64"
      ]
     },
     "execution_count": 7,
     "metadata": {},
     "output_type": "execute_result"
    }
   ],
   "source": [
    "df['type'].value_counts()"
   ]
  },
  {
   "cell_type": "code",
   "execution_count": 8,
   "metadata": {},
   "outputs": [],
   "source": [
    "num_msg= df.shape[0]\n",
    "num_AttOrNormal = len(df[\"label\"].unique()) \n",
    "name_AttOrNormal = [\"0: Normal \" , \" 1: attack \"]"
   ]
  },
  {
   "cell_type": "code",
   "execution_count": 9,
   "metadata": {},
   "outputs": [
    {
     "data": {
      "image/png": "[encoded data removed]",
      "text/plain": [
       "<Figure size 720x576 with 1 Axes>"
      ]
     },
     "metadata": {
      "needs_background": "light"
     },
     "output_type": "display_data"
    }
   ],
   "source": [
    "Count_per_classAttOrNormal = df[\"label\"].value_counts()\n",
    "percentage_per_classAttOrNormal = Count_per_classAttOrNormal*100/num_msg\n",
    "\n",
    "fig = plt.figure(figsize=(10, 8))\n",
    "bar_plot = plt.bar(name_AttOrNormal,Count_per_classAttOrNormal,color='green')\n",
    "\n",
    "\n",
    "plt.xlabel('Class (0:normal , 1:attack)')\n",
    "plt.ylabel('Count')\n",
    "plt.title('Distribution of messages ( normal vs attack )')\n",
    "plt.show()"
   ]
  },
  {
   "cell_type": "code",
   "execution_count": 10,
   "metadata": {},
   "outputs": [
    {
     "data": {
      "text/plain": [
       "6"
      ]
     },
     "execution_count": 10,
     "metadata": {},
     "output_type": "execute_result"
    }
   ],
   "source": [
    "len(df[\"type\"].unique())"
   ]
  },
  {
   "cell_type": "code",
   "execution_count": 11,
   "metadata": {},
   "outputs": [],
   "source": [
    "name_class=['normal','backdoor', 'password',  'injection', 'xss' ,'scanning']"
   ]
  },
  {
   "cell_type": "code",
   "execution_count": 12,
   "metadata": {},
   "outputs": [
    {
     "data": {
      "image/png": "[encoded data removed]",
      "text/plain": [
       "<Figure size 720x576 with 1 Axes>"
      ]
     },
     "metadata": {
      "needs_background": "light"
     },
     "output_type": "display_data"
    }
   ],
   "source": [
    "Count_per_class = df[\"type\"].value_counts()\n",
    "\n",
    "plt.rcParams.update({'font.size': 18})\n",
    "\n",
    "\n",
    "fig = plt.figure(figsize=(10, 8))\n",
    "bar_plot = plt.bar(name_class,Count_per_class,color='green')\n",
    "\n",
    "plt.xticks(rotation=90)\n",
    "plt.xlabel(\"Message type\")\n",
    "plt.ylabel(\"count\")\n",
    "\n",
    "plt.title('Distribution of the different types ')\n",
    "plt.show()"
   ]
  },
  {
   "cell_type": "code",
   "execution_count": null,
   "metadata": {},
   "outputs": [],
   "source": []
  },
  {
   "cell_type": "markdown",
   "metadata": {},
   "source": [
    "## Label Encoding"
   ]
  },
  {
   "cell_type": "code",
   "execution_count": 13,
   "metadata": {},
   "outputs": [
    {
     "data": {
      "text/html": [
       "<div>\n",
       "<style scoped>\n",
       "    .dataframe tbody tr th:only-of-type {\n",
       "        vertical-align: middle;\n",
       "    }\n",
       "\n",
       "    .dataframe tbody tr th {\n",
       "        vertical-align: top;\n",
       "    }\n",
       "\n",
       "    .dataframe thead th {\n",
       "        text-align: right;\n",
       "    }\n",
       "</style>\n",
       "<table border=\"1\" class=\"dataframe\">\n",
       "  <thead>\n",
       "    <tr style=\"text-align: right;\">\n",
       "      <th></th>\n",
       "      <th>ts</th>\n",
       "      <th>date</th>\n",
       "      <th>time</th>\n",
       "      <th>FC1_Read_Input_Register</th>\n",
       "      <th>FC2_Read_Discrete_Value</th>\n",
       "      <th>FC3_Read_Holding_Register</th>\n",
       "      <th>FC4_Read_Coil</th>\n",
       "      <th>label</th>\n",
       "      <th>type</th>\n",
       "      <th>labelCode</th>\n",
       "    </tr>\n",
       "  </thead>\n",
       "  <tbody>\n",
       "    <tr>\n",
       "      <th>0</th>\n",
       "      <td>1556208840</td>\n",
       "      <td>25-Apr-19</td>\n",
       "      <td>09:14:00</td>\n",
       "      <td>49389</td>\n",
       "      <td>52921</td>\n",
       "      <td>25770</td>\n",
       "      <td>13625</td>\n",
       "      <td>1</td>\n",
       "      <td>injection</td>\n",
       "      <td>1</td>\n",
       "    </tr>\n",
       "    <tr>\n",
       "      <th>1</th>\n",
       "      <td>1556208840</td>\n",
       "      <td>25-Apr-19</td>\n",
       "      <td>09:14:00</td>\n",
       "      <td>49389</td>\n",
       "      <td>52921</td>\n",
       "      <td>25770</td>\n",
       "      <td>13625</td>\n",
       "      <td>1</td>\n",
       "      <td>injection</td>\n",
       "      <td>1</td>\n",
       "    </tr>\n",
       "    <tr>\n",
       "      <th>2</th>\n",
       "      <td>1556208841</td>\n",
       "      <td>25-Apr-19</td>\n",
       "      <td>09:14:01</td>\n",
       "      <td>49389</td>\n",
       "      <td>52921</td>\n",
       "      <td>25770</td>\n",
       "      <td>13625</td>\n",
       "      <td>1</td>\n",
       "      <td>injection</td>\n",
       "      <td>1</td>\n",
       "    </tr>\n",
       "    <tr>\n",
       "      <th>3</th>\n",
       "      <td>1556208842</td>\n",
       "      <td>25-Apr-19</td>\n",
       "      <td>09:14:02</td>\n",
       "      <td>49389</td>\n",
       "      <td>52921</td>\n",
       "      <td>25770</td>\n",
       "      <td>13625</td>\n",
       "      <td>1</td>\n",
       "      <td>injection</td>\n",
       "      <td>1</td>\n",
       "    </tr>\n",
       "    <tr>\n",
       "      <th>4</th>\n",
       "      <td>1556208844</td>\n",
       "      <td>25-Apr-19</td>\n",
       "      <td>09:14:04</td>\n",
       "      <td>40665</td>\n",
       "      <td>44748</td>\n",
       "      <td>21098</td>\n",
       "      <td>35371</td>\n",
       "      <td>1</td>\n",
       "      <td>injection</td>\n",
       "      <td>1</td>\n",
       "    </tr>\n",
       "    <tr>\n",
       "      <th>...</th>\n",
       "      <td>...</td>\n",
       "      <td>...</td>\n",
       "      <td>...</td>\n",
       "      <td>...</td>\n",
       "      <td>...</td>\n",
       "      <td>...</td>\n",
       "      <td>...</td>\n",
       "      <td>...</td>\n",
       "      <td>...</td>\n",
       "      <td>...</td>\n",
       "    </tr>\n",
       "    <tr>\n",
       "      <th>51101</th>\n",
       "      <td>1554183533</td>\n",
       "      <td>1-Apr-19</td>\n",
       "      <td>22:38:53</td>\n",
       "      <td>62602</td>\n",
       "      <td>1253</td>\n",
       "      <td>12772</td>\n",
       "      <td>29319</td>\n",
       "      <td>0</td>\n",
       "      <td>normal</td>\n",
       "      <td>2</td>\n",
       "    </tr>\n",
       "    <tr>\n",
       "      <th>51102</th>\n",
       "      <td>1554183536</td>\n",
       "      <td>1-Apr-19</td>\n",
       "      <td>22:38:56</td>\n",
       "      <td>62602</td>\n",
       "      <td>1253</td>\n",
       "      <td>12772</td>\n",
       "      <td>29319</td>\n",
       "      <td>0</td>\n",
       "      <td>normal</td>\n",
       "      <td>2</td>\n",
       "    </tr>\n",
       "    <tr>\n",
       "      <th>51103</th>\n",
       "      <td>1554183537</td>\n",
       "      <td>1-Apr-19</td>\n",
       "      <td>22:38:57</td>\n",
       "      <td>198</td>\n",
       "      <td>38266</td>\n",
       "      <td>33649</td>\n",
       "      <td>44594</td>\n",
       "      <td>0</td>\n",
       "      <td>normal</td>\n",
       "      <td>2</td>\n",
       "    </tr>\n",
       "    <tr>\n",
       "      <th>51104</th>\n",
       "      <td>1554183538</td>\n",
       "      <td>1-Apr-19</td>\n",
       "      <td>22:38:58</td>\n",
       "      <td>198</td>\n",
       "      <td>38266</td>\n",
       "      <td>33649</td>\n",
       "      <td>44594</td>\n",
       "      <td>0</td>\n",
       "      <td>normal</td>\n",
       "      <td>2</td>\n",
       "    </tr>\n",
       "    <tr>\n",
       "      <th>51105</th>\n",
       "      <td>1554183541</td>\n",
       "      <td>1-Apr-19</td>\n",
       "      <td>22:39:01</td>\n",
       "      <td>198</td>\n",
       "      <td>38266</td>\n",
       "      <td>33649</td>\n",
       "      <td>44594</td>\n",
       "      <td>0</td>\n",
       "      <td>normal</td>\n",
       "      <td>2</td>\n",
       "    </tr>\n",
       "  </tbody>\n",
       "</table>\n",
       "<p>51106 rows × 10 columns</p>\n",
       "</div>"
      ],
      "text/plain": [
       "               ts       date        time  FC1_Read_Input_Register  \\\n",
       "0      1556208840  25-Apr-19   09:14:00                     49389   \n",
       "1      1556208840  25-Apr-19   09:14:00                     49389   \n",
       "2      1556208841  25-Apr-19   09:14:01                     49389   \n",
       "3      1556208842  25-Apr-19   09:14:02                     49389   \n",
       "4      1556208844  25-Apr-19   09:14:04                     40665   \n",
       "...           ...        ...         ...                      ...   \n",
       "51101  1554183533   1-Apr-19   22:38:53                     62602   \n",
       "51102  1554183536   1-Apr-19   22:38:56                     62602   \n",
       "51103  1554183537   1-Apr-19   22:38:57                       198   \n",
       "51104  1554183538   1-Apr-19   22:38:58                       198   \n",
       "51105  1554183541   1-Apr-19   22:39:01                       198   \n",
       "\n",
       "       FC2_Read_Discrete_Value  FC3_Read_Holding_Register  FC4_Read_Coil  \\\n",
       "0                        52921                      25770          13625   \n",
       "1                        52921                      25770          13625   \n",
       "2                        52921                      25770          13625   \n",
       "3                        52921                      25770          13625   \n",
       "4                        44748                      21098          35371   \n",
       "...                        ...                        ...            ...   \n",
       "51101                     1253                      12772          29319   \n",
       "51102                     1253                      12772          29319   \n",
       "51103                    38266                      33649          44594   \n",
       "51104                    38266                      33649          44594   \n",
       "51105                    38266                      33649          44594   \n",
       "\n",
       "       label       type  labelCode  \n",
       "0          1  injection          1  \n",
       "1          1  injection          1  \n",
       "2          1  injection          1  \n",
       "3          1  injection          1  \n",
       "4          1  injection          1  \n",
       "...      ...        ...        ...  \n",
       "51101      0     normal          2  \n",
       "51102      0     normal          2  \n",
       "51103      0     normal          2  \n",
       "51104      0     normal          2  \n",
       "51105      0     normal          2  \n",
       "\n",
       "[51106 rows x 10 columns]"
      ]
     },
     "execution_count": 13,
     "metadata": {},
     "output_type": "execute_result"
    }
   ],
   "source": [
    "labelencoder = LabelEncoder()\n",
    "# Assigning numerical values and storing in another column\n",
    "df['labelCode'] = labelencoder.fit_transform(df['type'])\n",
    "df"
   ]
  },
  {
   "cell_type": "markdown",
   "metadata": {},
   "source": [
    "## Each Class Code equivalent"
   ]
  },
  {
   "cell_type": "code",
   "execution_count": 14,
   "metadata": {},
   "outputs": [
    {
     "data": {
      "text/plain": [
       "{'injection': 1,\n",
       " 'backdoor': 0,\n",
       " 'normal': 2,\n",
       " 'password': 3,\n",
       " 'scanning': 4,\n",
       " 'xss': 5}"
      ]
     },
     "execution_count": 14,
     "metadata": {},
     "output_type": "execute_result"
    }
   ],
   "source": [
    "label_keys=df[\"type\"].unique()\n",
    "label_values=df[\"labelCode\"].unique()\n",
    "labels = {label_keys[i]: label_values[i] for i in range(len(label_keys))}\n",
    "labels"
   ]
  },
  {
   "cell_type": "code",
   "execution_count": null,
   "metadata": {},
   "outputs": [],
   "source": []
  },
  {
   "cell_type": "code",
   "execution_count": 15,
   "metadata": {},
   "outputs": [],
   "source": [
    "X=df[[\"FC1_Read_Input_Register\",\"FC2_Read_Discrete_Value\",\"FC3_Read_Holding_Register\",\"FC4_Read_Coil\"]]\n",
    "y=df[\"labelCode\"]"
   ]
  },
  {
   "cell_type": "code",
   "execution_count": 16,
   "metadata": {},
   "outputs": [
    {
     "data": {
      "text/plain": [
       "array([[ 0.8807671 ,  1.05943867, -0.35593683, -1.01798282],\n",
       "       [ 0.8807671 ,  1.05943867, -0.35593683, -1.01798282],\n",
       "       [ 0.8807671 ,  1.05943867, -0.35593683, -1.01798282],\n",
       "       ...,\n",
       "       [-1.72432128,  0.28865764,  0.06056983,  0.62372568],\n",
       "       [-1.72432128,  0.28865764,  0.06056983,  0.62372568],\n",
       "       [-1.72432128,  0.28865764,  0.06056983,  0.62372568]])"
      ]
     },
     "execution_count": 16,
     "metadata": {},
     "output_type": "execute_result"
    }
   ],
   "source": [
    "from sklearn.preprocessing import StandardScaler\n",
    " \n",
    "\n",
    " \n",
    "# Initialise the Scaler\n",
    "scaler = StandardScaler()\n",
    " \n",
    "# To scale data\n",
    "X=scaler.fit_transform(X)\n",
    "\n",
    "X"
   ]
  },
  {
   "cell_type": "code",
   "execution_count": 17,
   "metadata": {},
   "outputs": [
    {
     "name": "stdout",
     "output_type": "stream",
     "text": [
      "Train Data size: 40884\n",
      "Test Data size 10222\n"
     ]
    }
   ],
   "source": [
    "X_train, X_test, y_train, y_test = train_test_split(X, y, test_size=0.20,random_state=42)\n",
    "\n",
    "print(\"Train Data size:\", len(X_train))\n",
    "print(\"Test Data size\", len(X_test))"
   ]
  },
  {
   "cell_type": "code",
   "execution_count": 18,
   "metadata": {},
   "outputs": [
    {
     "data": {
      "text/plain": [
       "GaussianNB()"
      ]
     },
     "execution_count": 18,
     "metadata": {},
     "output_type": "execute_result"
    }
   ],
   "source": [
    "from sklearn.naive_bayes import GaussianNB\n",
    "nb= GaussianNB()\n",
    "nb.fit(X_train, y_train.values)"
   ]
  },
  {
   "cell_type": "code",
   "execution_count": 19,
   "metadata": {},
   "outputs": [],
   "source": [
    "y_pred = nb.predict(X_test)\n",
    "y_train_pred=nb.predict(X_train)"
   ]
  },
  {
   "cell_type": "code",
   "execution_count": 20,
   "metadata": {},
   "outputs": [
    {
     "name": "stdout",
     "output_type": "stream",
     "text": [
      "The RF model accuracy for the training set is:  68.39594951570297\n",
      "The RF model accuracy for the test set is:  68.84171395030326\n"
     ]
    }
   ],
   "source": [
    "from sklearn import metrics\n",
    "print(\"The RF model accuracy for the training set is: \", metrics.accuracy_score(y_train,y_train_pred)*100)\n",
    "print(\"The RF model accuracy for the test set is: \", metrics.accuracy_score(y_test,y_pred)*100)"
   ]
  },
  {
   "cell_type": "code",
   "execution_count": 21,
   "metadata": {},
   "outputs": [
    {
     "name": "stdout",
     "output_type": "stream",
     "text": [
      "\n",
      "Test confusion_matrix\n"
     ]
    },
    {
     "data": {
      "image/png": "[encoded data removed]",
      "text/plain": [
       "<Figure size 1080x1080 with 2 Axes>"
      ]
     },
     "metadata": {
      "needs_background": "light"
     },
     "output_type": "display_data"
    }
   ],
   "source": [
    "from sklearn.metrics import confusion_matrix\n",
    "\n",
    "cf_matrix = confusion_matrix(y_test, y_pred)\n",
    "print(\"\\nTest confusion_matrix\")\n",
    "plt.figure(figsize=(15,15))\n",
    "sns.heatmap(cf_matrix, annot=True, cmap='Blues')\n",
    "plt.xlabel('Predictions', fontsize=12)\n",
    "plt.ylabel('True', fontsize=12)\n",
    "plt.title('Confusion Matrix', fontsize=12)\n",
    "plt.show()"
   ]
  },
  {
   "cell_type": "code",
   "execution_count": 22,
   "metadata": {},
   "outputs": [
    {
     "data": {
      "text/plain": [
       "2    7037\n",
       "1    1009\n",
       "0    1007\n",
       "3     963\n",
       "4     109\n",
       "5      97\n",
       "Name: labelCode, dtype: int64"
      ]
     },
     "execution_count": 22,
     "metadata": {},
     "output_type": "execute_result"
    }
   ],
   "source": [
    "y_test.value_counts()"
   ]
  },
  {
   "cell_type": "code",
   "execution_count": 23,
   "metadata": {},
   "outputs": [
    {
     "name": "stderr",
     "output_type": "stream",
     "text": [
      "C:\\Users\\ASUS\\anaconda3\\lib\\site-packages\\sklearn\\metrics\\_classification.py:1221: UndefinedMetricWarning: Precision is ill-defined and being set to 0.0 in labels with no predicted samples. Use `zero_division` parameter to control this behavior.\n",
      "  _warn_prf(average, modifier, msg_start, len(result))\n"
     ]
    }
   ],
   "source": [
    "accuracy = accuracy_score(y_test, y_pred)\n",
    "recall = recall_score(y_test, y_pred , average=None)\n",
    "precision = precision_score(y_test, y_pred , average=None)\n",
    "f1 = f1_score(y_test, y_pred, average=None)"
   ]
  },
  {
   "cell_type": "code",
   "execution_count": 24,
   "metadata": {},
   "outputs": [],
   "source": [
    "recallList=recall.tolist()\n",
    "precisionList=precision.tolist()\n",
    "f1lList=f1.tolist()"
   ]
  },
  {
   "cell_type": "code",
   "execution_count": 25,
   "metadata": {},
   "outputs": [
    {
     "data": {
      "text/plain": [
       "['backdoor', 'injection', 'normal', 'password', 'scanning', 'xss']"
      ]
     },
     "execution_count": 25,
     "metadata": {},
     "output_type": "execute_result"
    }
   ],
   "source": [
    "name_class=['backdoor','injection','normal','password','scanning','xss']\n",
    "name_class.sort()\n",
    "name_class"
   ]
  },
  {
   "cell_type": "code",
   "execution_count": 26,
   "metadata": {},
   "outputs": [],
   "source": [
    "recallDict={i:j for i,j in zip(name_class,recallList)}\n",
    "precisionDict={i:j for i,j in zip(name_class,precisionList)}\n",
    "f1Dict={i:j for i,j in zip(name_class,f1lList)}"
   ]
  },
  {
   "cell_type": "markdown",
   "metadata": {},
   "source": [
    "## Average Recall"
   ]
  },
  {
   "cell_type": "code",
   "execution_count": 27,
   "metadata": {},
   "outputs": [
    {
     "data": {
      "text/plain": [
       "{'backdoor': 0.0,\n",
       " 'injection': 0.0,\n",
       " 'normal': 1.0,\n",
       " 'password': 0.0,\n",
       " 'scanning': 0.0,\n",
       " 'xss': 0.0}"
      ]
     },
     "execution_count": 27,
     "metadata": {},
     "output_type": "execute_result"
    }
   ],
   "source": [
    "recallDict"
   ]
  },
  {
   "cell_type": "markdown",
   "metadata": {},
   "source": [
    "## Average Precision"
   ]
  },
  {
   "cell_type": "code",
   "execution_count": 28,
   "metadata": {},
   "outputs": [
    {
     "data": {
      "text/plain": [
       "{'backdoor': 0.0,\n",
       " 'injection': 0.0,\n",
       " 'normal': 0.6884171395030326,\n",
       " 'password': 0.0,\n",
       " 'scanning': 0.0,\n",
       " 'xss': 0.0}"
      ]
     },
     "execution_count": 28,
     "metadata": {},
     "output_type": "execute_result"
    }
   ],
   "source": [
    "precisionDict"
   ]
  },
  {
   "cell_type": "markdown",
   "metadata": {},
   "source": [
    "## Average F1 Score"
   ]
  },
  {
   "cell_type": "code",
   "execution_count": 29,
   "metadata": {},
   "outputs": [
    {
     "data": {
      "text/plain": [
       "{'backdoor': 0.0,\n",
       " 'injection': 0.0,\n",
       " 'normal': 0.8154586013094618,\n",
       " 'password': 0.0,\n",
       " 'scanning': 0.0,\n",
       " 'xss': 0.0}"
      ]
     },
     "execution_count": 29,
     "metadata": {},
     "output_type": "execute_result"
    }
   ],
   "source": [
    "f1Dict"
   ]
  },
  {
   "cell_type": "code",
   "execution_count": null,
   "metadata": {},
   "outputs": [],
   "source": []
  }
 ],
 "metadata": {
  "kernelspec": {
   "display_name": "Python 3",
   "language": "python",
   "name": "python3"
  },
  "language_info": {
   "codemirror_mode": {
    "name": "ipython",
    "version": 3
   },
   "file_extension": ".py",
   "mimetype": "text/x-python",
   "name": "python",
   "nbconvert_exporter": "python",
   "pygments_lexer": "ipython3",
   "version": "3.8.5"
  }
 },
 "nbformat": 4,
 "nbformat_minor": 4
}
